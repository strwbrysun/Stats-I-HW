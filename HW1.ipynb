{
 "cells": [
  {
   "cell_type": "markdown",
   "id": "bac4e289",
   "metadata": {},
   "source": [
    "# Intro to Jupyter & Python\n",
    "\n",
    "\n",
    "As you know from Data Science 1000, a Jupyter Notebook is a document format which mixes text, mathematical text processing, and programming all in one. You will often see Jupyter Notebooks used to present research in scientific fields, as they allow others to see/run the code and visualize data. They are also useful for online data presentations. We will use them extensively in this course. \n",
    "\n",
    "\n",
    "A few notes: \n",
    "\n",
    "If you used the \"upload\" button or another shortcut to open this assignment, please part 1 of this lab, about downloading Jupyter Notebooks from the course website, about opening them in Jupyter and about saving them. Often the use of shortcuts leads to errors in this process - frequently because your files save in a location where you are not expecting them to be. About 18% of students in previous classes have uploaded blank or unreadable notebooks to the course website at least once because of these file errors. The demonstrations available online will help you manage this process so that you don't become a statistic. The first part of the video tutorial for this notebook (part 1) will walk you through the process of downloading .ipynb files and opening them in Jupyter. If you already have the notebook downloaded, open and feel comfortable with this process, you may skip this part.\n",
    "\n",
    "This first notebook will introduce you to the format of Jupyter notebook and prepare you for upcoming assignments. Follow the video recorded instructions, which will walk you through the lab (the lab elements are a large part of the grade for this homework. The sections labeled \"Homework\" you should complete on your own. If you run into any issues, let the course staff know, and we will try to troubleshoot them in office hours. \n",
    "\n",
    "## Assignment Goals (after you've got Jupyter running)\n",
    "\n",
    "This assignment is a review of the basics. In this assignment, you will learn about variables, datatypes, operators, and a few python programming conventions that you will find useful later in the course. You will also learn about the Markdown text functionality that Jupyter includes. Finally, you will complete some exercises to help refresh the descriptive statistics you have learned in the past and that are part of the first lecture.\n"
   ]
  },
  {
   "cell_type": "markdown",
   "id": "3526af57",
   "metadata": {},
   "source": [
    "## The Organization of a Jupyter Notebook\n",
    "\n",
    "A Jupyter notebook is broken down into many cells/boxes. Each cell has a particular format, which tells Jupyter to interpret what you have typed as text, code, or something else.  \n",
    "\n",
    "At the top of each Notebook, you can see icons for saving the notebook, adding a cell, etc. Two things in the top bar that are very important are:\n",
    "* A drop-down box chooses the format of a cell. The options that matter to us are **Code** and **Markdown** code. Code is for writing code, and Markdown is used for writing formatted text.\n",
    "* The **Run** button runs the cell. For code, this means executing the code in that cell (see Step 3 below). For markdown, this means switching from *Edit* mode to *View* mode. "
   ]
  },
  {
   "cell_type": "markdown",
   "id": "94218053",
   "metadata": {},
   "source": [
    "## Writing Text\n",
    "\n",
    "Text in Jupyter is written in a language called Markdown. All we really need to know is that to type text (instead of code) you tell a cell to be in Markdown mode and simply type text. What is important to remember is that in Markdown there is an *Edit* mode and a *View* mode. The latter takes any text you write and formats it nicely.\n",
    "\n",
    "Try editing the cell below to add \"Lab 1 - Introduction to Jupyter Notebooks\" as a **Heading level 1**. \n",
    "* Click on text once to highlight the cell to which it belongs.\n",
    "* Double-click on the cell below to enter *Edit* mode.\n",
    "* After typing, press **shift+enter** to switch from *Edit* mode to *View* mode (shift+enter is a shortcut for pressing the **Run** button). You may also use command (or control) + enter as an alternate shortcut. They do slightly different things but both keyboard shortcuts will execute the cell.\n",
    "* In Markdown, special characters like square brackets, less than and greater than signs, hashtags, asterisks, etc. all have a special meaning and may not display the way you think they will. \n",
    "* [Check out this reference page for more on Markdown formatting.](https://www.markdownguide.org/basic-syntax/)"
   ]
  },
  {
   "cell_type": "markdown",
   "id": "5149b2e0",
   "metadata": {},
   "source": [
    "# Lab 1 - Introduction to Jupyter Notebooks"
   ]
  },
  {
   "cell_type": "markdown",
   "id": "a3062aaf",
   "metadata": {},
   "source": [
    "## Getting Started with Variables\n",
    "\n",
    "Follow along with the video in the next sections, pausing as you need to so that you have time to type and can check your code as needed. We will start by creating a variable and using it for some simple operations. "
   ]
  },
  {
   "cell_type": "code",
   "execution_count": 29,
   "id": "5bb0ad19",
   "metadata": {},
   "outputs": [
    {
     "name": "stdout",
     "output_type": "stream",
     "text": [
      "x = [1, 5, 8, 8, 5, 6, 7, 3, 2, 9, 4, 4, 7, 8, 2, 7, 3, 1, 3, 5, 7, 6]\n",
      "x is a variable of type (or class): <class 'list'>.\n",
      "Within x, the individual scores are of type (or class): <class 'int'>.\n",
      "They are not the same.\n",
      "Now x is sorted. x = [1, 1, 2, 2, 3, 3, 3, 4, 4, 5, 5, 5, 6, 6, 7, 7, 7, 7, 8, 8, 8, 9]\n",
      "y = None\n",
      "The Sum of x is 111.\n",
      "x has 22 data points in it.\n"
     ]
    }
   ],
   "source": [
    "# Create a variable by executing the cell.\n",
    "\n",
    "x = [1, 5, 8, 8, 5, 6, 7, 3, 2, 9, 4, 4, 7, 8, 2, 7, 3, 1, 3, 5, 7, 6]\n",
    "\n",
    "# Now print your variable\n",
    "\n",
    "print(f'x = {x}')\n",
    "\n",
    "# What type of variable is x? What type of data does x hold? Are they the same or different?\n",
    "\n",
    "print(f'x is a variable of type (or class): {type(x)}.')\n",
    "print(f'Within x, the individual scores are of type (or class): {type(x[0])}.')\n",
    "print(f'They are not the same.')\n",
    "\n",
    "# Now sort the variable x so that the numbers are in order.\n",
    "\n",
    "x.sort()\n",
    "\n",
    "# Print your newly sorted x variable.\n",
    "\n",
    "print(f'Now x is sorted. x = {x}')\n",
    "\n",
    "# Note: the 'sort' command sorts the varaible 'in place' - meaning that it edits the value of the original \n",
    "# variable. What would happen if you tried to set a new variable 'y' to x.sort()? Try it and find out. \n",
    "# (hint: print the results to see what happened).\n",
    "\n",
    "x = [1, 5, 8, 8, 5, 6, 7, 3, 2, 9, 4, 4, 7, 8, 2, 7, 3, 1, 3, 5, 7, 6]\n",
    "y = x.sort()\n",
    "\n",
    "print(f'y = {y}')\n",
    "\n",
    "# Figure out the sum of x and save this to a new variable.\n",
    "\n",
    "sum_x = sum(x)\n",
    "\n",
    "# Print the sum of x\n",
    "\n",
    "print(f'The Sum of x is {sum_x}.')\n",
    "\n",
    "# How many integers are in x? Print this number.\n",
    "\n",
    "print(f'x has {len(x)} data points in it.')"
   ]
  },
  {
   "cell_type": "code",
   "execution_count": 30,
   "id": "aceb26e4",
   "metadata": {},
   "outputs": [],
   "source": [
    "# Reset x to it's original values by copying and pasting x again here. \n",
    "# Execute the code cell to activate this change.\n",
    "\n",
    "x = [1, 5, 8, 8, 5, 6, 7, 3, 2, 9, 4, 4, 7, 8, 2, 7, 3, 1, 3, 5, 7, 6]\n"
   ]
  },
  {
   "cell_type": "markdown",
   "id": "cc845362",
   "metadata": {},
   "source": [
    "Let's learn about a few other variable types that we will use in class this term. In the cell below, define an integer variable, a string variable, and a float (decimal) variable and compute some basic operations on each of them."
   ]
  },
  {
   "cell_type": "code",
   "execution_count": 31,
   "id": "b22548ff",
   "metadata": {},
   "outputs": [
    {
     "name": "stdout",
     "output_type": "stream",
     "text": [
      "13\n",
      "26\n",
      "CatherineCatherine\n",
      "CatherineCatherineCatherineCatherineCatherine\n",
      "65\n",
      "Catherine13\n",
      "This variable has a decimal place: 6.5\n",
      "It is type: <class 'float'>\n"
     ]
    }
   ],
   "source": [
    "# Define a new variable that holds an integer between 1 and 20.\n",
    "\n",
    "my_int = 13\n",
    "\n",
    "# Print your variable\n",
    "\n",
    "print(my_int)\n",
    "\n",
    "# Add your integer to itself\n",
    "\n",
    "print(my_int + my_int)\n",
    "\n",
    "# Make a new variable with your name in it.\n",
    "\n",
    "my_name = 'Catherine'\n",
    "\n",
    "# Add your name to itself\n",
    "\n",
    "print(my_name + my_name)\n",
    "\n",
    "# Multiply your name by 5.\n",
    "\n",
    "print(my_name * 5)\n",
    "\n",
    "# Now multiply your integer by 5.\n",
    "\n",
    "print(my_int * 5)\n",
    "\n",
    "# Can you add your integer to your name?\n",
    "\n",
    "print(my_name + str(my_int))\n",
    "\n",
    "# The most common data type you will deal with in statistics is known as a 'floating point' or decimal. \n",
    "# Use the = operator to define a new floating point variable.\n",
    "\n",
    "my_float = 6.5\n",
    "print(f'This variable has a decimal place: {my_float}')\n",
    "print(f'It is type: {type(my_float)}')\n"
   ]
  },
  {
   "cell_type": "markdown",
   "id": "df5d19ee",
   "metadata": {},
   "source": [
    "## <span style=\"color:blue\"> *Homework: Problem 1*</span>\n",
    "\n",
    "In the code cell below, take the variables you defined above and, **without** changing the values of the variables: \n",
    "1) Add the float and the integer you defined above, printing the output under the cell. \n",
    "\n",
    "2) Divide the float by 2.7 and print the output under the cell.\n",
    "\n",
    "3) Divide the integer by the number 1 and print the data type of the result.\n",
    "\n",
    "4) Finally, check that your variables still have the same values you gave them earlier by using a print statement."
   ]
  },
  {
   "cell_type": "code",
   "execution_count": 32,
   "id": "32f3d8c0",
   "metadata": {},
   "outputs": [
    {
     "name": "stdout",
     "output_type": "stream",
     "text": [
      "19.5\n",
      "2.4074074074074074\n",
      "13.0\n",
      "{<class 'float'>}\n",
      "my_float is: 6.5\n",
      "my_int is: 13\n",
      "My variables did not change their values because I did not set the variables to different values by using the assignment operator.\n"
     ]
    }
   ],
   "source": [
    "# 1) Add the float and the integer you defined above, printing the output to the screen.\n",
    "\n",
    "print(my_float + my_int)\n",
    "\n",
    "# 2) Divide the float by 2.7 and print the output to the screen.\n",
    "\n",
    "print(my_float / 2.7)\n",
    "\n",
    "# 3) Divide the integer by the number 1 and print both the result and the data type of the result.\n",
    "\n",
    "print(my_int / 1)\n",
    "print({type(my_int / 1)})\n",
    "\n",
    "# 4) Finally, check that your variables still have the same values you gave them earlier.\n",
    "\n",
    "print(f'my_float is: {my_float}')\n",
    "print(f'my_int is: {my_int}')\n",
    "\n",
    "#5) Why didn't your variables change their values?\n",
    "\n",
    "print(f'My variables did not change their values because I did not use the assignment operator to set them to different values.')"
   ]
  },
  {
   "cell_type": "markdown",
   "id": "48bc6f43",
   "metadata": {},
   "source": [
    "### Things to notice: \n",
    "\n",
    "- When you use the division operator (/), the result is a floating point number. This is true even when the number you are dividing is evenly divisible by the denominator of your equation.\n",
    "- If you do not use the assignment operator (=) to modify or reassign a new value to your variable, its value will stay as you initialized it in a previous code cell."
   ]
  },
  {
   "cell_type": "markdown",
   "id": "95da22e7",
   "metadata": {},
   "source": [
    "## Basic Operators. \n",
    "\n",
    "In this section you will learn about basic operations that we can do on our data. You've already used some of them.\n",
    "But let's go through the ones you will use often in this class so that you can begin to understand them."
   ]
  },
  {
   "cell_type": "code",
   "execution_count": 1,
   "id": "2dab3ea2",
   "metadata": {},
   "outputs": [
    {
     "name": "stdout",
     "output_type": "stream",
     "text": [
      "The new variable is: 100\n",
      "The sum of 5 and 2 is: 7\n",
      "The difference between 5 and 2 is: 3\n",
      "The product of 5 and 2 is: 10\n",
      "3 squared is: 9\n",
      "3 cubed is: 27\n",
      "The quotient of 1 / 2 is: 0.5\n",
      "The quotient of 2 / 1 is: 2.0\n",
      "This quotient (10 // 5) is exactly what you would expect: 2\n",
      "This quotient (13 // 5) is not what you would expect: 2\n",
      "The resulting data type of the operation (13 // 5) is: <class 'int'>\n",
      "The remainder of 6 / 2 is : 0\n",
      "The remainder of 7 /2 is: 1\n"
     ]
    }
   ],
   "source": [
    "# The = operator allows you to assign a value into a variable. You will use it a lot. \n",
    "# Use it now to define a variable and give it an integer value.\n",
    "\n",
    "my_new_variable = 100\n",
    "print(f'The new variable is: {my_new_variable}')\n",
    "\n",
    "# Add two numbers using the addition operator\n",
    "\n",
    "print(f'The sum of 5 and 2 is: {5 + 2}')\n",
    "\n",
    "# Subtract two numbers using the subtraction operator\n",
    "\n",
    "print(f'The difference between 5 and 2 is: {5 - 2}')\n",
    "\n",
    "# Multiply two numbers using the multiplication operator\n",
    "\n",
    "print(f'The product of 5 and 2 is: {5 * 2}')\n",
    "\n",
    "# Square a number using the square operator (**2)\n",
    "\n",
    "print(f'3 squared is: {3 ** 2}')\n",
    "\n",
    "# Cube the same number by adapting the square operator\n",
    "\n",
    "print(f'3 cubed is: {3 ** 3}')\n",
    "\n",
    "# Divide two numbers using the division operator\n",
    "\n",
    "print(f'The quotient of 1 / 2 is: {1 / 2}')\n",
    "\n",
    "# Divide two numbers in the opposite direction using the division operator. What is your result?\n",
    "\n",
    "print(f'The quotient of 2 / 1 is: {2 / 1}')\n",
    "\n",
    "# Floor division: the floor division operator is '//'. What does it do? \n",
    "\n",
    "print(f'This quotient (10 // 5) is exactly what you would expect: {10 // 5}')\n",
    "print(f'This quotient (13 // 5) is not what you would expect: {13 // 5}')\n",
    "print(f'The resulting data type of the operation (13 // 5) is: {type(13 // 5)}')\n",
    "\n",
    "# Finally, the modulo operator is '%'. Its job is to return the remainder in a division problem. Try it now.\n",
    "\n",
    "print(f'The remainder of 6 / 2 is : {6 % 2}')\n",
    "print(f'The remainder of 7 /2 is: {7 % 2}')"
   ]
  },
  {
   "cell_type": "markdown",
   "id": "f7700719",
   "metadata": {},
   "source": [
    "## Comparison Operators.\n",
    "\n",
    "Often in statistics, we need to ask questions about the relative differences between quantities. For example, we might want to know if the mean of one group is bigger than the mean of another group. As we move forward in the course, you will learn a set of statistical procedures we use to make these types of comparisons. However, here, you will learn how to do simple comparisions between two values. When we do comparisons, the resulting answers are known as a new data type: Boolean variables. 'Boolean' is a fancy way of saying 'true' or 'false'. Sometimes these appear as key words ('True' or 'False') and sometimes in statistics we use codes for these booleans: 1 (true) and 0 (false)."
   ]
  },
  {
   "cell_type": "code",
   "execution_count": 47,
   "id": "6a8297d7",
   "metadata": {},
   "outputs": [
    {
     "name": "stdout",
     "output_type": "stream",
     "text": [
      "Does 5 equal 6? False\n",
      "Does 5 equal 5? True\n",
      "Does the integer 5 equal the string 5? False\n",
      "Is 5 greater than 6? False\n",
      "Is 6 greater than 6? False\n",
      "Is 7 greater than 6? True\n",
      "Is 5 greater than or equal to 6? False\n",
      "Is 6 greater than or equal to 6? True\n",
      "Is 5 less than 6? True\n",
      "Is 6 less than 6? False\n",
      "Is 5 less than or equal to 6? True\n",
      "Is 6 less than or equal to 6? True\n",
      "Is 7 less than or equal to 6? False\n"
     ]
    }
   ],
   "source": [
    "# First, we will use the == operator to ask if 5 equals 6 (hint: it does not).\n",
    "\n",
    "print(f'Does 5 equal 6? {5 == 6}')\n",
    "\n",
    "# Now, let's ask if 5 equals 5 (hint: it does).\n",
    "\n",
    "print(f'Does 5 equal 5? {5 == 5}')\n",
    "\n",
    "# What happens when the items in the comparison are of different types? Ask if the integer 5 equals the string 5.\n",
    "\n",
    "print(f'Does the integer 5 equal the string 5? {5 == \"5\"}')\n",
    "\n",
    "# Now practice with the other common boolean operators: >, <, >=, and <=\n",
    "\n",
    "print(f'Is 5 greater than 6? {5 > 6}')\n",
    "print(f'Is 6 greater than 6? {6 > 6}')\n",
    "print(f'Is 7 greater than 6? {7 > 6}')\n",
    "print(f'Is 5 greater than or equal to 6? {5 >= 6}')\n",
    "print(f'Is 6 greater than or equal to 6? {6>= 6}')\n",
    "print(f'Is 5 less than 6? {5 < 6}')\n",
    "print(f'Is 6 less than 6? {6 < 6}')\n",
    "print(f'Is 5 less than or equal to 6? {5 <= 6}')\n",
    "print(f'Is 6 less than or equal to 6? {6 <= 6}')\n",
    "print(f'Is 7 less than or equal to 6? {7 <= 6}')"
   ]
  },
  {
   "cell_type": "markdown",
   "id": "af783a3f",
   "metadata": {},
   "source": [
    "#### Other Comparison and Conjunction Operators.\n",
    "\n",
    "There are a few other comparisons we will consider later in the course that are slightly more complex than what you just did. These allow you to evaluate multiple conditions at the same time (for example, 'AND' and 'OR'). But we won't worry about those for now. \n",
    "\n",
    "\n",
    "## Indexing.\n",
    "\n",
    "Sometimes, you have a variable with many values in it and you only want one or some of them. For example, your friend might live in an apartment building with many apartments. If you want to visit your friend, you need to know the address of their apartment (otherwise, you would have a long search and would certainly upset some of their neighbours). Looking for data in an variable that contains multiple values also requires an address (alhtough there are other clever ways to get the data you need). In Python, the first value in a variable is at the address '0', the second at the address '1' and the last at the address '-1'. Let's try this now."
   ]
  },
  {
   "cell_type": "code",
   "execution_count": 59,
   "id": "1201e3e1",
   "metadata": {},
   "outputs": [
    {
     "name": "stdout",
     "output_type": "stream",
     "text": [
      "The first value of x is: 1\n",
      "The second value of x is: 5\n",
      "The last value of x is: 6\n",
      "The first character of my name is: C\n",
      "The first two characters of my name are: Ca\n"
     ]
    }
   ],
   "source": [
    "# Print the first value of the variable x.\n",
    "\n",
    "print(f'The first value of x is: {x[0]}')\n",
    "\n",
    "# Print the second value in x (but before you do, please try to guess what value that is)?\n",
    "\n",
    "print(f'The second value of x is: {x[1]}')\n",
    "\n",
    "# Print the last value of the variable x.\n",
    "\n",
    "print(f'The last value of x is: {x[-1]}')\n",
    "\n",
    "# Print the first value of the variable that holds your name.\n",
    "\n",
    "print(f'The first character of my name is: {my_name[0]}')\n",
    "\n",
    "# Want multiple values, print the first 2 values of the variable that holds your name.\n",
    "\n",
    "print(f'The first two characters of my name are: {my_name[0:2]}')"
   ]
  },
  {
   "cell_type": "markdown",
   "id": "fb88eeb7",
   "metadata": {},
   "source": [
    "Let's learn about another python behaviour that sometimes trips people up! This relates to how python stores variables. Start by making a new variable (v) in the box below. Give v a list of any 3 integer values. "
   ]
  },
  {
   "cell_type": "code",
   "execution_count": 60,
   "id": "5f13ed73",
   "metadata": {},
   "outputs": [
    {
     "name": "stdout",
     "output_type": "stream",
     "text": [
      "v is: [11, 6, 20], not_v: is [11, 6, 20].\n"
     ]
    }
   ],
   "source": [
    "# Create 'v' and set it to your lucky 3 integers.\n",
    "\n",
    "v = [11, 6, 20]\n",
    "\n",
    "# Make a new variable (call it 'not_v') and set its value to v. \n",
    "\n",
    "not_v = v\n",
    "\n",
    "# Are v and not_v equal to your lucky integers? Print them to find out.\n",
    "\n",
    "print(f'v is: {v}, not_v is: {not_v}.')\n",
    "\n",
    "# Execute this cell to run the code."
   ]
  },
  {
   "cell_type": "markdown",
   "id": "f8898851",
   "metadata": {},
   "source": [
    "So far, so good! Now comes the tricky part. In the code cell below, set the second index of v to a new value of your choice. Then, reprint the values of both v and not_v."
   ]
  },
  {
   "cell_type": "code",
   "execution_count": 62,
   "id": "608e27b8",
   "metadata": {},
   "outputs": [
    {
     "name": "stdout",
     "output_type": "stream",
     "text": [
      "v is: [11, 100, 20], not_v is:[11, 100, 20]\n"
     ]
    }
   ],
   "source": [
    "not_v[1] = 100\n",
    "print(f'v is: {v}, not_v is:{not_v}')"
   ]
  },
  {
   "cell_type": "markdown",
   "id": "7189c0d5",
   "metadata": {},
   "source": [
    "Your action changed BOTH variables, v and not_v, even though you only wanted to change not_v's value. This is a behaviour that happens with lists (and a few other things that we won't go into). If you want to avoid it, you can do so by creating a copy of the original variable. Let's see what that looks like."
   ]
  },
  {
   "cell_type": "code",
   "execution_count": 65,
   "id": "980a9503",
   "metadata": {},
   "outputs": [
    {
     "name": "stdout",
     "output_type": "stream",
     "text": [
      "v is: [11, 6, 20], not_v is: [11, 6, 20]\n",
      "v is: [11, 6, 20], not_v is: [11, 100, 20]\n"
     ]
    }
   ],
   "source": [
    "# Recreate 'v' and set it to your lucky 3 integers again. You can copy and paste your code from above.\n",
    "\n",
    "v = [11, 6, 20]\n",
    "\n",
    "# Make a new variable (call it 'not_v') and set its value to v using the .copy() method. \n",
    "# Print your results so that you can verify that things have returned to their original values.\n",
    "\n",
    "not_v = v.copy()\n",
    "print(f'v is: {v}, not_v is: {not_v}')\n",
    "\n",
    "# Now reset the second index of not_v just as you did above.\n",
    "\n",
    "not_v[1] = 100\n",
    "print(f'v is: {v}, not_v is: {not_v}')"
   ]
  },
  {
   "cell_type": "markdown",
   "id": "e7e091cc",
   "metadata": {},
   "source": [
    "## <span style=\"color:blue\"> *Homework: Problem 2*</span>\n",
    "\n",
    "In the cell below:\n",
    "\n",
    "- Print all the values of x that are > 5? \n",
    "- Print all the values of x that are < 4? "
   ]
  },
  {
   "cell_type": "code",
   "execution_count": 66,
   "id": "a01ec1e9",
   "metadata": {},
   "outputs": [
    {
     "name": "stdout",
     "output_type": "stream",
     "text": [
      "Printing numbers greater than 5.\n",
      "8\n",
      "8\n",
      "6\n",
      "7\n",
      "9\n",
      "7\n",
      "8\n",
      "7\n",
      "7\n",
      "6\n",
      "Printing numbers less than 4.\n",
      "1\n",
      "3\n",
      "2\n",
      "2\n",
      "3\n",
      "1\n",
      "3\n"
     ]
    }
   ],
   "source": [
    "# This is a tricky problem because x is a list of values. \n",
    "# To examine a list of values, we need to examine them all one at a time to see if each one meets our criterion. \n",
    "# (later in the class we will learn to do this more efficiently). \n",
    "# For now, this is good practice with indexing AND it will give you practice with a feature of\n",
    "# programming environments - the ability to make your computer do the heavy lifting. \n",
    "# To answer this question, program a 'loop' that will examine each value of x and, if it is bigger than 5, \n",
    "# will print it for us. The type of loop we will make is called a 'for-next' loop. On each run through the loop, \n",
    "# we will use an 'if' statement to print the current value of x, if it meets the criteria we want \n",
    "# (i.e., the comparison statement evaluates as 'True'). \n",
    "\n",
    "# Here is the syntax - simply delete the '#' marks at the start of each of the next 4 lines to make the code run.\n",
    "print('Printing numbers greater than 5.')\n",
    "for i in range(len(x)):\n",
    "    if x[i] > 5:\n",
    "        print(x[i])\n",
    "        \n",
    "\n",
    "# Below, write your own version of this loop to achieve the second element of the problem above\n",
    "print(f'Printing numbers less than 4.')\n",
    "for i in range(len(x)):\n",
    "    if x[i] < 4:\n",
    "        print(x[i])"
   ]
  },
  {
   "cell_type": "markdown",
   "id": "c6d591b0",
   "metadata": {},
   "source": [
    "# Jupyter Behaviour.\n",
    "\n",
    "## <span style=\"color:blue\"> *Homework: Problem 3*</span>\n",
    "\n",
    "The last thing we will cover in this introduction is an interesting behaviour in Jupyter that it is important to be aware of. \n",
    "\n",
    "Run the three code cells below starting with the first one. The third will result in an error, but keep reading."
   ]
  },
  {
   "cell_type": "code",
   "execution_count": 48,
   "id": "dc759f51",
   "metadata": {},
   "outputs": [],
   "source": [
    "a = \"This is an interesting behaviour.\""
   ]
  },
  {
   "cell_type": "code",
   "execution_count": 52,
   "id": "47eacf7c",
   "metadata": {},
   "outputs": [
    {
     "name": "stdout",
     "output_type": "stream",
     "text": [
      "This will result in an error.\n"
     ]
    }
   ],
   "source": [
    "print(a)"
   ]
  },
  {
   "cell_type": "markdown",
   "id": "2107636a",
   "metadata": {},
   "source": [
    "**Run** the cell below."
   ]
  },
  {
   "cell_type": "code",
   "execution_count": 51,
   "id": "8ffb4343",
   "metadata": {},
   "outputs": [
    {
     "name": "stdout",
     "output_type": "stream",
     "text": [
      "This will result in an error.\n"
     ]
    }
   ],
   "source": [
    "a = \"This will result in an error.\"\n",
    "print(a)"
   ]
  },
  {
   "cell_type": "markdown",
   "id": "c2325fdd",
   "metadata": {},
   "source": [
    "Notice what happened. The code results in a `SyntaxError`. \n",
    "\n",
    "1. Fix the error (hint: the last quotation in the above code is a single quote and the first is a double quote - they need to match).\n",
    "2. Now run the cell and see that it outputs the expected result.\n",
    "\n",
    "Finally, go back to the second-last code cell with `print(a)` and run it. What happens? \n",
    "\n",
    "Surprise! It prints \"This will result in an error.\" Why? Because you changed the value of `a` in the very last cell. This change **persists** across all coding cells in a single notebook. Be aware of this when creating your code blocks.\n",
    "\n",
    "Notice the numbers that appear at the top left of each code cell. They should now be non-increasing from top to bottom. Instead, it should show that the cell with a single `print(a)` has a number which is higher than the very last cell in which `a` gets assigned the value \"This will result in an error.\"  **The numbers indicate the order of events.** \n",
    "\n",
    "Notice that the cell with `a = \"This is an interesting behaviour.\"` has a number which **smaller** than the cell with `a = \"This will result in an error.\"` This means that `a`'s value was last modified by the latter and so it is the true **current** value of `a`. \n",
    "\n",
    "\n",
    "### **The key take-away:**\n",
    "* To be sure code works as expected, without relying on the order of events, **and instead relying on the order they appear in the document**, click **Kernel** in the top menu bar and choose **Restart & Run All**. This will clear all the output and run all of the cells again."
   ]
  },
  {
   "cell_type": "markdown",
   "id": "0182d7c0",
   "metadata": {},
   "source": [
    "# Descriptive Statistics\n",
    "\n",
    "Now that you've learned a bit of Python, let's get back to the theme of the week. We will be doing some basic computations that you learned about in lecture. We will do them in Python. Although there are some helper libraries that you will have in your Anaconda distribution, we won't start using these just yet because we want to get some practice with the basic knowledge and computations before we let Python take over. \n",
    "\n",
    "Why is this important? Computers are pretty dumb. They are very good at computing things but just because a computer can do something, doesn't mean that it has been done correctly. That's were you come in. You need to be able to develop a sense of when your computer is doing things right and when it is doing things wrong. To do that, you need to see how the computations work with respect to the variables we are interested in. "
   ]
  },
  {
   "cell_type": "markdown",
   "id": "91555872",
   "metadata": {},
   "source": [
    "## The Mean.\n",
    "\n",
    "Now we will find the mean of a variable called 'y' (eventually the mean needs to be it's own variable so that we can compute the standard deviation, so we will create that new variable now). We will do this calculation without using special helper libraries (e.g., statistics, numpy, etc.). Call this variable 'ybar' to refer to the fact that it is usually written as the variable name with a little horizontal bar over the top (this is a statistical convention)."
   ]
  },
  {
   "cell_type": "code",
   "execution_count": 67,
   "id": "53952875",
   "metadata": {},
   "outputs": [],
   "source": [
    "y = [7, 10, 8, 3, 0, 1, 9, 2, 11, 6, 7, 5, 8, 10, 9, 3, 5]"
   ]
  },
  {
   "cell_type": "code",
   "execution_count": 68,
   "id": "91e38d4a",
   "metadata": {},
   "outputs": [
    {
     "name": "stdout",
     "output_type": "stream",
     "text": [
      "The mean of y is: 6.117647058823529.\n"
     ]
    }
   ],
   "source": [
    "# Compute the mean and save it to a new variable. \n",
    "# The mean is the sum (sum()) of the datapoints divided by the number of datapoints. \n",
    "\n",
    "ybar = sum(y) / len(y)\n",
    "\n",
    "# Print your result.\n",
    "print(f'The mean of y is: {ybar}.')"
   ]
  },
  {
   "cell_type": "markdown",
   "id": "e26add1d",
   "metadata": {},
   "source": [
    "## <span style=\"color:blue\"> *Homework: Problem 4*</span>\n",
    "\n",
    "Now you try. \n",
    "- compute the mean of the variable x (which is defined above). If you get an error telling you that x is not defined, restart the kernel and **Run all**. Be sure to save the mean to a new variable (call it 'xbar').\n",
    "- print the result. "
   ]
  },
  {
   "cell_type": "code",
   "execution_count": 69,
   "id": "9b622675",
   "metadata": {},
   "outputs": [
    {
     "name": "stdout",
     "output_type": "stream",
     "text": [
      "The mean of x is: 5.045454545454546.\n"
     ]
    }
   ],
   "source": [
    "xbar = sum(x) / len(x)\n",
    "\n",
    "# Print your result.\n",
    "print(f'The mean of x is: {xbar}.')"
   ]
  },
  {
   "cell_type": "markdown",
   "id": "8db0e862",
   "metadata": {},
   "source": [
    "## The Median.\n",
    "\n",
    "Let's find the median of y. To do that, we first need to know if y has an odd or even number of items - I know, we can count and figure out that it contains 17 numbers (which is odd) but in a real dataset with lots of values, we might want to learn this with a calculation. To figure that out, we can divide the number of items 'len(y)' by 2 and see if we get a remainder of 0, which indicates that the number is divisible by 2 and therefore even. Remember the 'modulo' operator you learned about above? This is a really good place to use it. \n",
    "\n",
    "Before we calculate the median, remember that the dataset needs to be sorted. Then, if there are an odd number of data points in the variable, we will simply take the number in the middle as the median. If the number of data points is even, we need to take the average of the two middle numbers."
   ]
  },
  {
   "cell_type": "code",
   "execution_count": 71,
   "id": "07e2b5ff",
   "metadata": {},
   "outputs": [
    {
     "name": "stdout",
     "output_type": "stream",
     "text": [
      "The remainder is: 1.\n"
     ]
    }
   ],
   "source": [
    "# Use the modulo operator to find whether the length of the dataset, divided by 2 has a remainder.\n",
    "\n",
    "m = len(y) % 2\n",
    "print(f'The remainder is: {m}.')"
   ]
  },
  {
   "cell_type": "code",
   "execution_count": 72,
   "id": "3208f905",
   "metadata": {},
   "outputs": [],
   "source": [
    "# Use the list sort function to sort y.\n",
    "\n",
    "y.sort()"
   ]
  },
  {
   "cell_type": "code",
   "execution_count": 73,
   "id": "e1307dcf",
   "metadata": {},
   "outputs": [
    {
     "name": "stdout",
     "output_type": "stream",
     "text": [
      "The dataset has an odd number of points in it.\n",
      "The median of the dataset is: 7\n"
     ]
    }
   ],
   "source": [
    "# As you know, we calculate the median differently if we have an even versus odd number of data points. \n",
    "# One way to do this is make a simple \"if\" function that does the correct computation regardless of whether the data\n",
    "# has an odd or even number of points. \n",
    "\n",
    "# Here is an example of a median calculation that COULD work for both odd and even datasets (it is currently unique\n",
    "# to our already-sorted y variable above - so it won't work for anything else).\n",
    "\n",
    "if m == 0:\n",
    "    print(f'The dataset has an even number of points in it.')\n",
    "    i = int(len(y)/2)\n",
    "    print(f'The median of the dataset is: {sum(y[i-1:i+1])/2}')\n",
    "else:\n",
    "    print(f'The dataset has an odd number of points in it.')\n",
    "    i = int(len(y)/2)\n",
    "    print(f'The median of the dataset is: {y[i]}')"
   ]
  },
  {
   "cell_type": "markdown",
   "id": "478a2e7d",
   "metadata": {},
   "source": [
    "## Functions!\n",
    "\n",
    "This is not an element of descriptive statistics - but we are now going to advance the process of letting the computer do the heavy lifting by turning the code we wrote above into a \"function\" that can take any list of integers and give us the median back. The code is written for you. Run the next cell to \"activate\" it. "
   ]
  },
  {
   "cell_type": "code",
   "execution_count": 74,
   "id": "31bb4282",
   "metadata": {},
   "outputs": [],
   "source": [
    "# Median function\n",
    "\n",
    "def my_median(data): # The word 'data' in the brackets is a variable. The function will operate on this variable.\n",
    "    \n",
    "    \"\"\"This function takes a list of integers and returns the median of those integers.\n",
    "    Input: data, a list of integers\n",
    "    Return: m, the median\"\"\"\n",
    "    \n",
    "    data.sort() # First sort the dataset\n",
    "    \n",
    "    i = int(len(data)/2) # Second, get the index of the middle value\n",
    "    \n",
    "    if (len(data) % 2) == 0: # In the dataset has an even number of points\n",
    "        m = sum(data[i-1:i+1])/2 # Get the average of the two middle values\n",
    "        \n",
    "    else: # Otherwise, the dataset has an odd number of points.\n",
    "        m = data[i] # Get the middle value\n",
    "        \n",
    "    return m # This 'returns' the median we calculated to the calling function\n"
   ]
  },
  {
   "cell_type": "markdown",
   "id": "c1c24dae",
   "metadata": {},
   "source": [
    "##  <span style=\"color:blue\"> *Homework: Problem 5*</span>\n",
    "\n",
    "Now its your turn to compute a median. Use the function we defined above.\n",
    "- compute the median of the variable x by \"calling\" the function and passing it the variable x. The function call will look something like 'my_median(x)'. You may wish to set the result into a variable so that you can use it later.\n",
    "- print the result. "
   ]
  },
  {
   "cell_type": "code",
   "execution_count": 75,
   "id": "001262c4",
   "metadata": {},
   "outputs": [
    {
     "name": "stdout",
     "output_type": "stream",
     "text": [
      "The median of x is: 5.0\n"
     ]
    }
   ],
   "source": [
    "# Call and print the result of the median function.\n",
    "\n",
    "x_median = my_median(x)\n",
    "print(f'The median of x is: {my_median(x)}')"
   ]
  },
  {
   "cell_type": "markdown",
   "id": "e2b363c4",
   "metadata": {},
   "source": [
    "## Standard Deviation.\n",
    "\n",
    "Let's find the standard deviation of the x variable. To do this, we need to think about what the standard deviation is and how we find it. We start with the variance (the sum of the squared deviations, divided by the number of data points). Later we will take the square root of the variance to get the standard deviation. "
   ]
  },
  {
   "cell_type": "code",
   "execution_count": null,
   "id": "56dd306f",
   "metadata": {},
   "outputs": [],
   "source": [
    "# To get started with the standard deviation, we are going to convert our 'list' variable x to a \n",
    "# new type of data called an 'array'. You will work a lot with arrays in this class.\n",
    "# Because the standard deviation & variance computations require the sum of the squared deviations \n",
    "# of each score from the mean, this will allow us to efficiently compute these deviations, rather than \n",
    "# using a for-next loop (we could do that too, but it would be less efficient).\n",
    "\n",
    "# We will use a helper library called numpy to do that. To use numpy, we need to import it. Once we 'call'\n",
    "# the import statement, we don't need to do this again - it will be active until the Notebook is closed.\n",
    "\n",
    "import numpy as np\n",
    "\n",
    "# Later will will take a square root so we will also use Python's math library for that. Let's import that too\n",
    "import math as math"
   ]
  },
  {
   "cell_type": "code",
   "execution_count": null,
   "id": "9424658b",
   "metadata": {},
   "outputs": [],
   "source": [
    "# The first thing we will do is to convert our x variable into an array 'a'\n",
    "\n",
    "\n",
    "\n",
    "# For starters, we want to make a variable (let's call it 'd') that holds the deviations from the mean, \n",
    "# which we calculated earlier (named 'xbar' above). To do that, we will use our array ('a') from above. \n",
    "\n",
    "\n",
    "\n",
    "# For fun, print the sum of 'd' and check that this equals 0 - to within rounding error (if it doesn't, \n",
    "# we have a mistake somewhere).\n",
    "\n",
    "\n",
    "# Now we need to square the deviations\n",
    "\n",
    "\n",
    "\n",
    "# To get the variance, we calculate the sum of the squared deviations/count of the data points.\n",
    "# For simplicity, we will use the population variance (so the denominator will not include an adjustment).\n",
    "\n"
   ]
  },
  {
   "cell_type": "markdown",
   "id": "c21aab94",
   "metadata": {},
   "source": [
    "We have calculated the variance - the next step is to covert this to the standard deviation by taking the square root. "
   ]
  },
  {
   "cell_type": "code",
   "execution_count": null,
   "id": "695a72e3",
   "metadata": {},
   "outputs": [],
   "source": [
    "# the math.sqrt command provides the answer.\n",
    "\n",
    "\n",
    "# If you are annoyed by the 16-digit precision, you can round this number.\n",
    "print(f'The standard deviation rounded to 4 decimal places is: {round(s,4)}.')\n",
    "# Or, you can keep the precision and just print the number to 4 decimal places....\n",
    "print(f'The standard deviation with 4 decimal places is: {s:.4f}.')"
   ]
  },
  {
   "cell_type": "markdown",
   "id": "28d0cdaa",
   "metadata": {},
   "source": [
    "Let's check our work by doing the same calculation in numpy (which has a magic function for getting the standard deviation)."
   ]
  },
  {
   "cell_type": "code",
   "execution_count": null,
   "id": "1d08a465",
   "metadata": {
    "scrolled": true
   },
   "outputs": [],
   "source": [
    "# use numpy to compute the standard deviation\n",
    "\n",
    "\n",
    "# Let's check if we got it right and celebrate our success!\n"
   ]
  },
  {
   "cell_type": "markdown",
   "id": "486d3a0b",
   "metadata": {},
   "source": [
    "## <span style=\"color:blue\"> *Homework: Problem 6*</span>\n",
    "\n",
    "Try computing the standard devaition of the variable y, which we defined earlier. Do that in the following ways:\n",
    "1) Compute the standard deviation of y by hand, using the steps we completed above. Be sure to print the result. \n",
    "\n",
    "2) Compute the standard deviation of y using numpy. Print your results and compare them."
   ]
  },
  {
   "cell_type": "code",
   "execution_count": null,
   "id": "4691632e",
   "metadata": {},
   "outputs": [],
   "source": [
    "# Compute the standard deviation of y without using numpy\n",
    "\n"
   ]
  },
  {
   "cell_type": "code",
   "execution_count": null,
   "id": "43e5c065",
   "metadata": {},
   "outputs": [],
   "source": [
    "# Check your work using numpy!\n",
    "\n"
   ]
  },
  {
   "cell_type": "markdown",
   "id": "bab97d63",
   "metadata": {},
   "source": [
    "## <span style=\"color:blue\"> *Homework: Problem 7*</span>\n",
    "\n",
    "1) In markdown cell below, explain two reasons why it is important to learn to use a computing language like Python for statistics (you may use bullet points if you like).\n",
    "\n",
    "2) Explain two important things that descriptive statistics tell us."
   ]
  },
  {
   "cell_type": "markdown",
   "id": "2c80d334",
   "metadata": {},
   "source": [
    "*YOUR ANSWER HERE*"
   ]
  }
 ],
 "metadata": {
  "kernelspec": {
   "display_name": "Python 3 (ipykernel)",
   "language": "python",
   "name": "python3"
  },
  "language_info": {
   "codemirror_mode": {
    "name": "ipython",
    "version": 3
   },
   "file_extension": ".py",
   "mimetype": "text/x-python",
   "name": "python",
   "nbconvert_exporter": "python",
   "pygments_lexer": "ipython3",
   "version": "3.11.4"
  }
 },
 "nbformat": 4,
 "nbformat_minor": 5
}
